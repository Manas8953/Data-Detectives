{
 "cells": [
  {
   "cell_type": "code",
   "execution_count": 1,
   "id": "39f96b25-a77c-48d0-945d-0f2c54878047",
   "metadata": {},
   "outputs": [],
   "source": [
    "import pandas as pd\n",
    "pd.set_option('display.max_columns', None)\n",
    "pd.set_option('display.max_rows', None)\n",
    "import numpy as np"
   ]
  },
  {
   "cell_type": "code",
   "execution_count": 2,
   "id": "89a7cb72-0522-430f-94cb-2b02a5f5b09e",
   "metadata": {},
   "outputs": [],
   "source": [
    "df = pd.read_csv(\"Matches.csv\")"
   ]
  },
  {
   "cell_type": "code",
   "execution_count": 3,
   "id": "3bf24694-3d15-48c8-851f-cb746f436455",
   "metadata": {},
   "outputs": [
    {
     "name": "stdout",
     "output_type": "stream",
     "text": [
      "           Team  Matches_Played\n",
      "1     Australia              11\n",
      "4         India              11\n",
      "3       England              10\n",
      "6   New Zealand              10\n",
      "0   Afghanistan               9\n",
      "2    Bangladesh               9\n",
      "5   Netherlands               9\n",
      "7      Pakistan               9\n",
      "8  South Africa               9\n",
      "9     Sri Lanka               9\n"
     ]
    }
   ],
   "source": [
    "# Count occurrences in team1 and team2 columns, then combine them\n",
    "team1_counts = df['team1'].value_counts()\n",
    "team2_counts = df['team2'].value_counts()\n",
    "\n",
    "# Sum the counts for each team\n",
    "total_matches_played = team1_counts.add(team2_counts, fill_value=0).astype(int)\n",
    "\n",
    "# Create a DataFrame for easier viewing\n",
    "matches_played_df = total_matches_played.reset_index()\n",
    "matches_played_df.columns = ['Team', 'Matches_Played']\n",
    "\n",
    "# Sort and display the result\n",
    "matches_played_df = matches_played_df.sort_values(by='Matches_Played', ascending=False)\n",
    "print(matches_played_df)"
   ]
  },
  {
   "cell_type": "code",
   "execution_count": 4,
   "id": "16c4260d-ec2d-4200-af50-3774fce0bf24",
   "metadata": {},
   "outputs": [
    {
     "name": "stdout",
     "output_type": "stream",
     "text": [
      "           Team  Toss_Wins\n",
      "0   Afghanistan          7\n",
      "1       England          5\n",
      "2  South Africa          5\n",
      "3      Pakistan          5\n",
      "4         India          5\n",
      "5   Netherlands          5\n",
      "6     Australia          5\n",
      "7    Bangladesh          4\n",
      "8     Sri Lanka          4\n",
      "9   New Zealand          3\n"
     ]
    }
   ],
   "source": [
    "\n",
    "# Count the number of toss wins for each team\n",
    "toss_wins = df['toss_winner'].value_counts()\n",
    "\n",
    "# Convert to a DataFrame for easier viewing\n",
    "toss_wins_df = toss_wins.reset_index()\n",
    "toss_wins_df.columns = ['Team', 'Toss_Wins']\n",
    "\n",
    "# Display the result\n",
    "print(toss_wins_df)"
   ]
  },
  {
   "cell_type": "code",
   "execution_count": 5,
   "id": "2bb88c45-eddc-43ef-93b8-4eab2503da3d",
   "metadata": {},
   "outputs": [
    {
     "name": "stdout",
     "output_type": "stream",
     "text": [
      "           Team  Tosses_Lost\n",
      "6   New Zealand            7\n",
      "1     Australia            6\n",
      "4         India            6\n",
      "2    Bangladesh            5\n",
      "3       England            5\n",
      "9     Sri Lanka            5\n",
      "5   Netherlands            4\n",
      "7      Pakistan            4\n",
      "8  South Africa            4\n",
      "0   Afghanistan            2\n"
     ]
    }
   ],
   "source": [
    "# Count the number of matches each team participated in (either as team1 or team2)\n",
    "team1_counts = df['team1'].value_counts()\n",
    "team2_counts = df['team2'].value_counts()\n",
    "total_matches_played = team1_counts.add(team2_counts, fill_value=0).astype(int)\n",
    "\n",
    "# Count the number of tosses won by each team\n",
    "toss_wins = df['toss_winner'].value_counts()\n",
    "\n",
    "# Calculate tosses lost by subtracting toss wins from total matches played\n",
    "toss_losses = total_matches_played.subtract(toss_wins, fill_value=0).astype(int)\n",
    "\n",
    "# Convert to DataFrame for easier viewing\n",
    "toss_losses_df = toss_losses.reset_index()\n",
    "toss_losses_df.columns = ['Team', 'Tosses_Lost']\n",
    "\n",
    "# Sort and display the result\n",
    "toss_losses_df = toss_losses_df.sort_values(by='Tosses_Lost', ascending=False)\n",
    "print(toss_losses_df)"
   ]
  },
  {
   "cell_type": "code",
   "execution_count": 6,
   "id": "d619027d-f2a4-4e7b-878d-b3cb84f98490",
   "metadata": {},
   "outputs": [
    {
     "data": {
      "text/html": [
       "<div>\n",
       "<style scoped>\n",
       "    .dataframe tbody tr th:only-of-type {\n",
       "        vertical-align: middle;\n",
       "    }\n",
       "\n",
       "    .dataframe tbody tr th {\n",
       "        vertical-align: top;\n",
       "    }\n",
       "\n",
       "    .dataframe thead th {\n",
       "        text-align: right;\n",
       "    }\n",
       "</style>\n",
       "<table border=\"1\" class=\"dataframe\">\n",
       "  <thead>\n",
       "    <tr style=\"text-align: right;\">\n",
       "      <th></th>\n",
       "      <th>team1</th>\n",
       "      <th>team2</th>\n",
       "      <th>match_number</th>\n",
       "      <th>venue</th>\n",
       "      <th>city</th>\n",
       "      <th>toss_winner</th>\n",
       "      <th>toss_decision</th>\n",
       "      <th>player_of_match</th>\n",
       "      <th>umpire1</th>\n",
       "      <th>umpire2</th>\n",
       "      <th>reserve_umpire</th>\n",
       "      <th>match_referee</th>\n",
       "      <th>match_type</th>\n",
       "      <th>extras</th>\n",
       "      <th>winner</th>\n",
       "      <th>looser</th>\n",
       "      <th>win_by_runs</th>\n",
       "      <th>win_by_wickets</th>\n",
       "    </tr>\n",
       "  </thead>\n",
       "  <tbody>\n",
       "    <tr>\n",
       "      <th>0</th>\n",
       "      <td>Afghanistan</td>\n",
       "      <td>England</td>\n",
       "      <td>1</td>\n",
       "      <td>Narendra Modi Stadium</td>\n",
       "      <td>Ahmedabad</td>\n",
       "      <td>England</td>\n",
       "      <td>field</td>\n",
       "      <td>JE Root</td>\n",
       "      <td>HDPK Dharmasena</td>\n",
       "      <td>Nitin Menon</td>\n",
       "      <td>Sharfuddoula</td>\n",
       "      <td>J Srinath</td>\n",
       "      <td>Group</td>\n",
       "      <td>NaN</td>\n",
       "      <td>England</td>\n",
       "      <td>Afghanistan</td>\n",
       "      <td>NaN</td>\n",
       "      <td>9.0</td>\n",
       "    </tr>\n",
       "    <tr>\n",
       "      <th>1</th>\n",
       "      <td>Sri Lanka</td>\n",
       "      <td>South Africa</td>\n",
       "      <td>2</td>\n",
       "      <td>Rajiv Gandhi International Stadium</td>\n",
       "      <td>Hyderabad</td>\n",
       "      <td>South Africa</td>\n",
       "      <td>field</td>\n",
       "      <td>KIC Asalanka</td>\n",
       "      <td>AT Holdstock</td>\n",
       "      <td>CM Brown</td>\n",
       "      <td>PR Reiffel</td>\n",
       "      <td>JJ Crowe</td>\n",
       "      <td>Group</td>\n",
       "      <td>NaN</td>\n",
       "      <td>Sri Lanka</td>\n",
       "      <td>South Africa</td>\n",
       "      <td>81.0</td>\n",
       "      <td>NaN</td>\n",
       "    </tr>\n",
       "    <tr>\n",
       "      <th>2</th>\n",
       "      <td>Netherlands</td>\n",
       "      <td>Pakistan</td>\n",
       "      <td>3</td>\n",
       "      <td>Himachal Pradesh Cricket Association Stadium</td>\n",
       "      <td>Dharamsala</td>\n",
       "      <td>Pakistan</td>\n",
       "      <td>field</td>\n",
       "      <td>Babar Azam</td>\n",
       "      <td>JS Wilson</td>\n",
       "      <td>HDPK Dharmasena</td>\n",
       "      <td>M Erasmus</td>\n",
       "      <td>AJ Pycroft</td>\n",
       "      <td>Group</td>\n",
       "      <td>NaN</td>\n",
       "      <td>Pakistan</td>\n",
       "      <td>Netherlands</td>\n",
       "      <td>NaN</td>\n",
       "      <td>6.0</td>\n",
       "    </tr>\n",
       "    <tr>\n",
       "      <th>3</th>\n",
       "      <td>New Zealand</td>\n",
       "      <td>Bangladesh</td>\n",
       "      <td>4</td>\n",
       "      <td>Arun Jaitley Stadium</td>\n",
       "      <td>Delhi</td>\n",
       "      <td>Bangladesh</td>\n",
       "      <td>field</td>\n",
       "      <td>DJ Mitchell</td>\n",
       "      <td>RK Illingworth</td>\n",
       "      <td>Sharfuddoula</td>\n",
       "      <td>AG Wharf</td>\n",
       "      <td>J Srinath</td>\n",
       "      <td>Group</td>\n",
       "      <td>NaN</td>\n",
       "      <td>New Zealand</td>\n",
       "      <td>Bangladesh</td>\n",
       "      <td>102.0</td>\n",
       "      <td>NaN</td>\n",
       "    </tr>\n",
       "    <tr>\n",
       "      <th>4</th>\n",
       "      <td>India</td>\n",
       "      <td>Australia</td>\n",
       "      <td>5</td>\n",
       "      <td>MA Chidambaram Stadium</td>\n",
       "      <td>Chennai</td>\n",
       "      <td>India</td>\n",
       "      <td>bat</td>\n",
       "      <td>GJ Maxwell</td>\n",
       "      <td>CB Gaffaney</td>\n",
       "      <td>RA Kettleborough</td>\n",
       "      <td>AT Holdstock</td>\n",
       "      <td>RB Richardson</td>\n",
       "      <td>Group</td>\n",
       "      <td>NaN</td>\n",
       "      <td>Australia</td>\n",
       "      <td>India</td>\n",
       "      <td>NaN</td>\n",
       "      <td>6.0</td>\n",
       "    </tr>\n",
       "  </tbody>\n",
       "</table>\n",
       "</div>"
      ],
      "text/plain": [
       "         team1         team2  match_number  \\\n",
       "0  Afghanistan       England             1   \n",
       "1    Sri Lanka  South Africa             2   \n",
       "2  Netherlands      Pakistan             3   \n",
       "3  New Zealand    Bangladesh             4   \n",
       "4        India     Australia             5   \n",
       "\n",
       "                                          venue        city   toss_winner  \\\n",
       "0                         Narendra Modi Stadium   Ahmedabad       England   \n",
       "1            Rajiv Gandhi International Stadium   Hyderabad  South Africa   \n",
       "2  Himachal Pradesh Cricket Association Stadium  Dharamsala      Pakistan   \n",
       "3                          Arun Jaitley Stadium       Delhi    Bangladesh   \n",
       "4                        MA Chidambaram Stadium     Chennai         India   \n",
       "\n",
       "  toss_decision player_of_match          umpire1           umpire2  \\\n",
       "0         field         JE Root  HDPK Dharmasena       Nitin Menon   \n",
       "1         field    KIC Asalanka     AT Holdstock          CM Brown   \n",
       "2         field      Babar Azam        JS Wilson   HDPK Dharmasena   \n",
       "3         field     DJ Mitchell   RK Illingworth      Sharfuddoula   \n",
       "4           bat      GJ Maxwell      CB Gaffaney  RA Kettleborough   \n",
       "\n",
       "  reserve_umpire  match_referee match_type  extras       winner        looser  \\\n",
       "0   Sharfuddoula      J Srinath      Group     NaN      England   Afghanistan   \n",
       "1     PR Reiffel       JJ Crowe      Group     NaN    Sri Lanka  South Africa   \n",
       "2      M Erasmus     AJ Pycroft      Group     NaN     Pakistan   Netherlands   \n",
       "3       AG Wharf      J Srinath      Group     NaN  New Zealand    Bangladesh   \n",
       "4   AT Holdstock  RB Richardson      Group     NaN    Australia         India   \n",
       "\n",
       "   win_by_runs  win_by_wickets  \n",
       "0          NaN             9.0  \n",
       "1         81.0             NaN  \n",
       "2          NaN             6.0  \n",
       "3        102.0             NaN  \n",
       "4          NaN             6.0  "
      ]
     },
     "execution_count": 6,
     "metadata": {},
     "output_type": "execute_result"
    }
   ],
   "source": [
    "df.head()"
   ]
  },
  {
   "cell_type": "markdown",
   "id": "a6ba7596-a299-488d-ab9a-9d80e935cf9d",
   "metadata": {},
   "source": [
    "Question 2a)"
   ]
  },
  {
   "cell_type": "code",
   "execution_count": 7,
   "id": "14f59b1e-b1ec-4187-818b-bb6090fbd037",
   "metadata": {},
   "outputs": [
    {
     "name": "stdout",
     "output_type": "stream",
     "text": [
      "           Team  Matches_Won_After_Toss\n",
      "0     Australia                       5\n",
      "1       England                       3\n",
      "2         India                       3\n",
      "3      Pakistan                       2\n",
      "4   Afghanistan                       2\n",
      "5   New Zealand                       1\n",
      "6  South Africa                       1\n",
      "7   Netherlands                       1\n"
     ]
    }
   ],
   "source": [
    "# Filter rows where the toss winner also won the match\n",
    "matches_won_after_toss = df[df['toss_winner'] == df['winner']]\n",
    "\n",
    "# Count the number of matches won after winning the toss for each team\n",
    "matches_won_after_toss_count = matches_won_after_toss['winner'].value_counts()\n",
    "\n",
    "# Convert the result to a DataFrame for easy viewing\n",
    "matches_won_after_toss_df = matches_won_after_toss_count.reset_index()\n",
    "matches_won_after_toss_df.columns = ['Team', 'Matches_Won_After_Toss']\n",
    "\n",
    "# Sort and display the result\n",
    "matches_won_after_toss_df = matches_won_after_toss_df.sort_values(by='Matches_Won_After_Toss', ascending=False)\n",
    "print(matches_won_after_toss_df)"
   ]
  },
  {
   "cell_type": "code",
   "execution_count": 8,
   "id": "e96456bf-748f-454d-8f4a-da49e322b030",
   "metadata": {},
   "outputs": [
    {
     "name": "stdout",
     "output_type": "stream",
     "text": [
      "           Team  Matches_Won_After_Losing_Toss\n",
      "0   New Zealand                              6\n",
      "1     Australia                              5\n",
      "2         India                              5\n",
      "3     Sri Lanka                              3\n",
      "4       England                              3\n",
      "5   Netherlands                              3\n",
      "6    Bangladesh                              2\n",
      "7   Afghanistan                              1\n",
      "8  South Africa                              1\n"
     ]
    }
   ],
   "source": [
    "# Filter matches where the winner is not the toss_winner (indicating the team won after losing the toss)\n",
    "matches_won_after_losing_toss = df[df['winner'] != df['toss_winner']]\n",
    "\n",
    "# Count the occurrences of each team in the filtered DataFrame's 'winner' column\n",
    "matches_won_after_losing_toss_count = matches_won_after_losing_toss['winner'].value_counts()\n",
    "\n",
    "# Convert to DataFrame for better readability\n",
    "matches_won_after_losing_toss_df = matches_won_after_losing_toss_count.reset_index()\n",
    "matches_won_after_losing_toss_df.columns = ['Team', 'Matches_Won_After_Losing_Toss']\n",
    "\n",
    "# Display the result\n",
    "print(matches_won_after_losing_toss_df)"
   ]
  },
  {
   "cell_type": "code",
   "execution_count": null,
   "id": "8a1181a3-55f8-4467-965c-434ffb508d88",
   "metadata": {},
   "outputs": [],
   "source": []
  },
  {
   "cell_type": "code",
   "execution_count": 12,
   "id": "7b85293e-43a7-43dd-a5f1-f42986d84075",
   "metadata": {
    "scrolled": true
   },
   "outputs": [
    {
     "name": "stdout",
     "output_type": "stream",
     "text": [
      "           Team  % matches chose to bat first  % matches chose to ball first\n",
      "0       England                      0.000000                     100.000000\n",
      "1  South Africa                     60.000000                      40.000000\n",
      "2      Pakistan                     40.000000                      60.000000\n",
      "3    Bangladesh                     50.000000                      50.000000\n",
      "4         India                     40.000000                      60.000000\n",
      "5   Netherlands                     60.000000                      40.000000\n",
      "6     Australia                     60.000000                      40.000000\n",
      "7   Afghanistan                     42.857143                      57.142857\n",
      "8   New Zealand                     66.666667                      33.333333\n",
      "9     Sri Lanka                     50.000000                      50.000000\n"
     ]
    }
   ],
   "source": [
    "toss_won_data = df[['toss_winner', 'toss_decision']]\n",
    "\n",
    "# Calculate percentages for each team\n",
    "results = []\n",
    "\n",
    "for team in toss_won_data['toss_winner'].unique():\n",
    "    team_data = toss_won_data[toss_won_data['toss_winner'] == team]\n",
    "    matches_won_toss = len(team_data)\n",
    "    \n",
    "    # Calculate % chose to bat first\n",
    "    bat_first_count = len(team_data[team_data['toss_decision'] == 'bat'])\n",
    "    bat_first_percentage = (bat_first_count / matches_won_toss) * 100 if matches_won_toss > 0 else 0\n",
    "    \n",
    "    # Calculate % chose to bowl first\n",
    "    bowl_first_percentage = 100 - bat_first_percentage  # Since there are only two choices\n",
    "    \n",
    "    # Append results\n",
    "    results.append({\n",
    "        'Team': team,\n",
    "        '% matches chose to bat first': bat_first_percentage,\n",
    "        '% matches chose to ball first': bowl_first_percentage\n",
    "    })\n",
    "\n",
    "# Convert to DataFrame for display\n",
    "results_df = pd.DataFrame(results)\n",
    "print(results_df)"
   ]
  },
  {
   "cell_type": "markdown",
   "id": "30cd9d3e-6185-404d-9c2d-9bbca3f456a7",
   "metadata": {},
   "source": [
    "Part (b): Stacked Bar Chart for Toss Decision by Venue"
   ]
  },
  {
   "cell_type": "code",
   "execution_count": 21,
   "id": "70dfc797-1260-449b-9f19-2b9b655b7e2d",
   "metadata": {},
   "outputs": [
    {
     "data": {
      "image/png": "[encoded data removed]",
      "text/plain": [
       "<Figure size 1200x700 with 1 Axes>"
      ]
     },
     "metadata": {},
     "output_type": "display_data"
    }
   ],
   "source": [
    "import pandas as pd\n",
    "import matplotlib.pyplot as plt\n",
    "\n",
    "# Group by venue and toss_decision to count the decisions taken\n",
    "toss_decision_by_venue = df[df['toss_winner'] == df['team1']].groupby(['venue', 'toss_decision']).size().unstack().fillna(0)\n",
    "\n",
    "# Plot the stacked bar chart\n",
    "toss_decision_by_venue.plot(kind='bar', stacked=True, color=['#1f77b4', '#ff7f0e'], figsize=(12, 7))\n",
    "plt.title(\"Toss Decision (Bat/Field) by Venue\")\n",
    "plt.xlabel(\"Venue\")\n",
    "plt.ylabel(\"Number of Matches\")\n",
    "plt.legend(title=\"Toss Decision\", labels=['Bat', 'Field'])\n",
    "plt.xticks(rotation=45, ha='right')\n",
    "plt.tight_layout()\n",
    "plt.show()\n",
    "\n"
   ]
  },
  {
   "cell_type": "markdown",
   "id": "f5966921-2ac5-49d6-acfc-ba467bbcc993",
   "metadata": {},
   "source": [
    "Part (c): Percentage of Matches Won at Each Venue after Winning the Toss\n",
    "/"
   ]
  },
  {
   "cell_type": "code",
   "execution_count": 16,
   "id": "435f5e84-dc21-4219-883d-14296ccbaa04",
   "metadata": {},
   "outputs": [
    {
     "name": "stdout",
     "output_type": "stream",
     "text": [
      "\n",
      "Percentage of Matches Won at Each Venue After Winning the Toss:\n",
      "                                          Venue  Win Percentage After Toss Win\n",
      "0                          Arun Jaitley Stadium                           40.0\n",
      "1                                  Eden Gardens                           60.0\n",
      "2  Himachal Pradesh Cricket Association Stadium                           40.0\n",
      "3                         M Chinnaswamy Stadium                           40.0\n",
      "4                        MA Chidambaram Stadium                           20.0\n",
      "5       Maharashtra Cricket Association Stadium                           60.0\n",
      "6                         Narendra Modi Stadium                           60.0\n",
      "7                              Wankhede Stadium                           40.0\n"
     ]
    }
   ],
   "source": [
    "# Filter data for matches where the toss winner won the game\n",
    "win_after_toss = df[df['toss_winner'] == df['winner']]\n",
    "\n",
    "# Calculate win percentage for each venue after winning the toss\n",
    "venue_toss_win_percentage = win_after_toss['venue'].value_counts() / df['venue'].value_counts() * 100\n",
    "venue_toss_win_percentage = venue_toss_win_percentage.dropna().reset_index()\n",
    "venue_toss_win_percentage.columns = ['Venue', 'Win Percentage After Toss Win']\n",
    "\n",
    "print(\"\\nPercentage of Matches Won at Each Venue After Winning the Toss:\")\n",
    "print(venue_toss_win_percentage)"
   ]
  },
  {
   "cell_type": "markdown",
   "id": "99ed6d38-8abf-4538-9a38-4234d5346d15",
   "metadata": {},
   "source": [
    "Part (d): Average Wickets Left When Toss-Winning Team Chose to Field and Won\n"
   ]
  },
  {
   "cell_type": "code",
   "execution_count": 18,
   "id": "ac3e9066-6173-48ac-b5a4-54af318de100",
   "metadata": {},
   "outputs": [
    {
     "name": "stdout",
     "output_type": "stream",
     "text": [
      "\n",
      "Average number of wickets with which the team fielding first won the game: 6.20\n"
     ]
    }
   ],
   "source": [
    "# Filter for matches where toss winner chose to field and won the game\n",
    "field_first_wins = df[(df['toss_winner'] == df['winner']) & (df['toss_decision'] == 'field')]\n",
    "\n",
    "# Calculate the average wickets left in these games\n",
    "average_wickets_left = field_first_wins['win_by_wickets'].mean()\n",
    "print(f\"\\nAverage number of wickets with which the team fielding first won the game: {average_wickets_left:.2f}\")"
   ]
  },
  {
   "cell_type": "code",
   "execution_count": null,
   "id": "704aa692-992e-4227-85d7-22d1e76e91d0",
   "metadata": {},
   "outputs": [],
   "source": []
  }
 ],
 "metadata": {
  "kernelspec": {
   "display_name": "Python 3 (ipykernel)",
   "language": "python",
   "name": "python3"
  },
  "language_info": {
   "codemirror_mode": {
    "name": "ipython",
    "version": 3
   },
   "file_extension": ".py",
   "mimetype": "text/x-python",
   "name": "python",
   "nbconvert_exporter": "python",
   "pygments_lexer": "ipython3",
   "version": "3.12.2"
  }
 },
 "nbformat": 4,
 "nbformat_minor": 5
}
